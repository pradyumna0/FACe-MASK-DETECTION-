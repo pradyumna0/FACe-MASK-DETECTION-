{
 "cells": [
  {
   "cell_type": "code",
   "execution_count": 23,
   "metadata": {},
   "outputs": [],
   "source": [
    "import numpy as np\n",
    "import cv2\n"
   ]
  },
  {
   "cell_type": "code",
   "execution_count": 24,
   "metadata": {},
   "outputs": [],
   "source": [
    "with_mask = np.load('with.npy')\n",
    "without_mask = np.load('without.npy')"
   ]
  },
  {
   "cell_type": "code",
   "execution_count": 25,
   "metadata": {},
   "outputs": [
    {
     "data": {
      "text/plain": [
       "(200, 50, 50, 3)"
      ]
     },
     "execution_count": 25,
     "metadata": {},
     "output_type": "execute_result"
    }
   ],
   "source": [
    "with_mask.shape"
   ]
  },
  {
   "cell_type": "code",
   "execution_count": 4,
   "metadata": {},
   "outputs": [],
   "source": [
    "#(200,50,50,3)"
   ]
  },
  {
   "cell_type": "code",
   "execution_count": null,
   "metadata": {},
   "outputs": [],
   "source": []
  },
  {
   "cell_type": "code",
   "execution_count": 26,
   "metadata": {},
   "outputs": [],
   "source": [
    "with_mask = with_mask.reshape(200,50*50*3 )\n",
    "without_mask = without_mask.reshape(200,50*50*3)"
   ]
  },
  {
   "cell_type": "code",
   "execution_count": 27,
   "metadata": {},
   "outputs": [
    {
     "data": {
      "text/plain": [
       "(200, 7500)"
      ]
     },
     "execution_count": 27,
     "metadata": {},
     "output_type": "execute_result"
    }
   ],
   "source": [
    "without_mask.shape"
   ]
  },
  {
   "cell_type": "code",
   "execution_count": 28,
   "metadata": {},
   "outputs": [],
   "source": [
    "X = np.r_[with_mask,without_mask]"
   ]
  },
  {
   "cell_type": "code",
   "execution_count": 29,
   "metadata": {},
   "outputs": [
    {
     "data": {
      "text/plain": [
       "(400, 7500)"
      ]
     },
     "execution_count": 29,
     "metadata": {},
     "output_type": "execute_result"
    }
   ],
   "source": [
    "\n",
    "X.shape"
   ]
  },
  {
   "cell_type": "code",
   "execution_count": 30,
   "metadata": {},
   "outputs": [],
   "source": [
    "labels = np.zeros(X.shape[0]) \n",
    "labels[200:] = 1.0 # here the first 200 will be 0 ie with maskand 1 is without mask"
   ]
  },
  {
   "cell_type": "code",
   "execution_count": 32,
   "metadata": {},
   "outputs": [],
   "source": [
    "names = {0:'mask',1:'no mask'}"
   ]
  },
  {
   "cell_type": "code",
   "execution_count": 33,
   "metadata": {},
   "outputs": [],
   "source": [
    "from sklearn.svm import SVC\n",
    "from sklearn.metrics import accuracy_score  \n",
    "from sklearn.model_selection import train_test_split"
   ]
  },
  {
   "cell_type": "code",
   "execution_count": 34,
   "metadata": {},
   "outputs": [],
   "source": [
    "x_train,x_test,y_train,y_test = train_test_split(X,labels,test_size=0.25)"
   ]
  },
  {
   "cell_type": "code",
   "execution_count": 35,
   "metadata": {},
   "outputs": [
    {
     "data": {
      "text/plain": [
       "(300, 7500)"
      ]
     },
     "execution_count": 35,
     "metadata": {},
     "output_type": "execute_result"
    }
   ],
   "source": [
    "x_train.shape"
   ]
  },
  {
   "cell_type": "code",
   "execution_count": 36,
   "metadata": {},
   "outputs": [],
   "source": [
    "from sklearn.decomposition import PCA"
   ]
  },
  {
   "cell_type": "code",
   "execution_count": 37,
   "metadata": {},
   "outputs": [],
   "source": [
    "pca = PCA(n_components=4)\n",
    "x_train = pca.fit_transform(x_train)"
   ]
  },
  {
   "cell_type": "code",
   "execution_count": 38,
   "metadata": {},
   "outputs": [
    {
     "data": {
      "text/plain": [
       "array([-2204.99512485,  -760.79160471,  6398.34514757,  2735.67685716])"
      ]
     },
     "execution_count": 38,
     "metadata": {},
     "output_type": "execute_result"
    }
   ],
   "source": [
    "x_train[0]"
   ]
  },
  {
   "cell_type": "code",
   "execution_count": 39,
   "metadata": {},
   "outputs": [
    {
     "data": {
      "text/plain": [
       "(300, 4)"
      ]
     },
     "execution_count": 39,
     "metadata": {},
     "output_type": "execute_result"
    }
   ],
   "source": [
    "x_train.shape"
   ]
  },
  {
   "cell_type": "code",
   "execution_count": 40,
   "metadata": {},
   "outputs": [],
   "source": [
    "x_train,x_test,y_train,y_test = train_test_split(X,labels,test_size=0.25)"
   ]
  },
  {
   "cell_type": "code",
   "execution_count": 41,
   "metadata": {},
   "outputs": [
    {
     "data": {
      "text/plain": [
       "SVC()"
      ]
     },
     "execution_count": 41,
     "metadata": {},
     "output_type": "execute_result"
    }
   ],
   "source": [
    "svm = SVC()\n",
    "svm.fit(x_train,y_train)\n"
   ]
  },
  {
   "cell_type": "code",
   "execution_count": 42,
   "metadata": {},
   "outputs": [],
   "source": [
    "\n",
    "#x_test = pca.transform(x_test)\n",
    "y_pred =svm.predict(x_test)  "
   ]
  },
  {
   "cell_type": "code",
   "execution_count": 43,
   "metadata": {},
   "outputs": [
    {
     "data": {
      "text/plain": [
       "1.0"
      ]
     },
     "execution_count": 43,
     "metadata": {},
     "output_type": "execute_result"
    }
   ],
   "source": [
    "\n",
    "accuracy_score(y_test,y_pred)"
   ]
  },
  {
   "cell_type": "code",
   "execution_count": 47,
   "metadata": {},
   "outputs": [
    {
     "name": "stdout",
     "output_type": "stream",
     "text": [
      "mask\n",
      "mask\n",
      "mask\n",
      "mask\n",
      "mask\n",
      "mask\n",
      "mask\n",
      "mask\n",
      "mask\n",
      "mask\n",
      "mask\n",
      "mask\n",
      "mask\n",
      "mask\n",
      "mask\n",
      "mask\n",
      "mask\n",
      "mask\n",
      "mask\n",
      "mask\n",
      "mask\n",
      "mask\n",
      "mask\n",
      "mask\n",
      "mask\n",
      "mask\n",
      "mask\n",
      "mask\n",
      "mask\n",
      "mask\n",
      "mask\n",
      "mask\n",
      "mask\n",
      "mask\n",
      "mask\n",
      "mask\n",
      "mask\n",
      "no mask\n",
      "no mask\n",
      "no mask\n",
      "no mask\n",
      "no mask\n",
      "no mask\n",
      "no mask\n",
      "no mask\n",
      "no mask\n",
      "no mask\n",
      "no mask\n",
      "no mask\n",
      "no mask\n",
      "no mask\n",
      "no mask\n",
      "no mask\n",
      "no mask\n",
      "no mask\n",
      "no mask\n",
      "no mask\n",
      "no mask\n",
      "no mask\n",
      "no mask\n",
      "no mask\n",
      "no mask\n",
      "no mask\n",
      "no mask\n",
      "no mask\n",
      "no mask\n",
      "no mask\n",
      "no mask\n",
      "no mask\n",
      "no mask\n",
      "no mask\n",
      "no mask\n",
      "no mask\n",
      "no mask\n",
      "no mask\n",
      "no mask\n",
      "no mask\n",
      "no mask\n",
      "no mask\n",
      "no mask\n",
      "no mask\n",
      "no mask\n",
      "no mask\n",
      "no mask\n",
      "no mask\n",
      "no mask\n",
      "no mask\n",
      "no mask\n",
      "no mask\n",
      "no mask\n",
      "no mask\n",
      "no mask\n",
      "no mask\n",
      "no mask\n",
      "no mask\n",
      "no mask\n",
      "no mask\n",
      "no mask\n",
      "no mask\n",
      "no mask\n",
      "no mask\n",
      "no mask\n",
      "no mask\n",
      "no mask\n",
      "no mask\n",
      "no mask\n",
      "no mask\n",
      "no mask\n",
      "no mask\n",
      "no mask\n",
      "no mask\n",
      "no mask\n",
      "no mask\n",
      "no mask\n",
      "no mask\n",
      "no mask\n",
      "no mask\n",
      "no mask\n",
      "no mask\n",
      "no mask\n",
      "no mask\n",
      "no mask\n",
      "no mask\n",
      "no mask\n",
      "no mask\n",
      "no mask\n",
      "no mask\n",
      "no mask\n",
      "no mask\n",
      "no mask\n",
      "no mask\n",
      "no mask\n",
      "no mask\n",
      "no mask\n",
      "no mask\n",
      "no mask\n",
      "no mask\n",
      "no mask\n",
      "no mask\n",
      "no mask\n",
      "no mask\n",
      "no mask\n",
      "no mask\n",
      "no mask\n",
      "no mask\n",
      "no mask\n",
      "no mask\n",
      "no mask\n",
      "no mask\n",
      "no mask\n",
      "no mask\n",
      "no mask\n"
     ]
    }
   ],
   "source": [
    "haar_data = cv2.CascadeClassifier(r\"C:\\Users\\prady\\Downloads\\haarcascade_frontalface_default.xml\")\n",
    "capture = cv2.VideoCapture(0)\n",
    "data=[]\n",
    "font = cv2.FONT_HERSHEY_COMPLEX\n",
    "while True:\n",
    "    flag,img=capture.read()\n",
    "    if flag:\n",
    "        faces=haar_data.detectMultiScale(img)\n",
    "        for x,y,w,h in faces:\n",
    "            cv2.rectangle(img,(x,y),(x+w,y+h),(255,0,255),4)\n",
    "            face = img[y:y+h,x:x+w,:]\n",
    "            face = cv2.resize(face, (50,50))\n",
    "            face = face.reshape(1,-1)\n",
    "            pred = svm.predict(face)[0]\n",
    "            n = names[int(pred)]\n",
    "            #cv2.putText(img,n,(x,y),font,1,(244,250,250),2)\n",
    "            #face = pca.transform(face)\n",
    "            print(n)\n",
    "        cv2.imshow(\"result\",img)\n",
    "        if cv2.waitKey(2) == 27:\n",
    "            break\n",
    "            \n",
    "capture.release()\n",
    "cv2.destroyAllWindows()"
   ]
  },
  {
   "cell_type": "code",
   "execution_count": null,
   "metadata": {},
   "outputs": [],
   "source": []
  },
  {
   "cell_type": "code",
   "execution_count": null,
   "metadata": {},
   "outputs": [],
   "source": []
  }
 ],
 "metadata": {
  "kernelspec": {
   "display_name": "Python 3",
   "language": "python",
   "name": "python3"
  },
  "language_info": {
   "codemirror_mode": {
    "name": "ipython",
    "version": 3
   },
   "file_extension": ".py",
   "mimetype": "text/x-python",
   "name": "python",
   "nbconvert_exporter": "python",
   "pygments_lexer": "ipython3",
   "version": "3.8.3"
  }
 },
 "nbformat": 4,
 "nbformat_minor": 4
}
